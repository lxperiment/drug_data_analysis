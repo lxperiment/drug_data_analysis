{
 "cells": [
  {
   "metadata": {},
   "cell_type": "markdown",
   "source": "",
   "id": "7aaf26dd1985b99d"
  },
  {
   "metadata": {
    "ExecuteTime": {
     "end_time": "2024-11-08T08:54:18.466165Z",
     "start_time": "2024-11-08T08:54:18.363313Z"
    }
   },
   "cell_type": "code",
   "source": [
    "import pandas as pd\n",
    "\n",
    "dir = './data/'\n",
    "machine_1_data = pd.read_excel(dir + '1.xls')\n",
    "machine_2_data = pd.read_excel(dir + '2.xls')\n",
    "machine_3_data = pd.read_excel(dir + '3.xls')\n",
    "df = pd.read_excel('./results/union.xlsx')\n",
    "uninon = set(df['DRUG_NAME'].tolist())\n",
    "machine_1 = set(machine_1_data['药品名称'].tolist())\n",
    "machine_2 = set(machine_2_data['药品名称'].tolist())\n",
    "machine_3 = set(machine_3_data['药品名称'].tolist())\n",
    "uninon1 = uninon - machine_1\n",
    "leftover = machine_1 - uninon\n",
    "print(leftover,len(leftover))\n",
    "\n",
    "\n",
    "pd.Series(list(uninon1), name='DRUG_NAME').to_excel('./results/left1.xlsx')"
   ],
   "id": "4e6125538d73bb97",
   "outputs": [
    {
     "name": "stdout",
     "output_type": "stream",
     "text": [
      "{'更昔洛韦胶囊(乙类)', '[集4]洛索洛芬钠片(乙类)', '盐酸多奈哌齐片(乙类)[卫材]', '盐酸雷洛昔芬片(乙类)', '熊去氧胆酸胶囊(甲类)[Losan]', '金嗓开音胶囊(乙类)', '和血明目片J(乙类)[0.31g]', '复方醋酸棉酚片★', '吡贝地尔缓释片(乙类)', '金刚藤胶囊(乙类)', '膦甲酸钠乳膏★[海神]', '[集5]盐酸文拉法辛缓释胶囊J(甲类)[福元]', '[集3]枸橼酸西地那非片[齐鲁]★', '舒胆片(乙类）', '[集4]吡嗪酰胺片J(甲类)', '胰酶肠溶胶囊(乙类)', '柳氮磺吡啶肠溶片J(甲类)[信谊]', '炔雌醇环丙孕酮片[乙限]', '卡泊三醇软膏(乙类)[LEO]', '[集3]克拉霉素片J(乙类)[浙江贝得]', '酒石酸托特罗定片(乙类)', '聚苯乙烯磺酸钙散剂(乙类)', '醋酸氢化可的松片J(甲类)[天津信谊][30片]', '经带宁胶囊', '[联5]美沙拉秦缓释颗粒J(乙类)', '[集3]盐酸美金刚片(乙类)', '卡泊三醇倍他米松软膏(乙类)', '丙酸氟替卡松吸入气雾剂J(乙类)', '维胺酯胶囊★', '盐酸伊伐布雷定片J(乙类)', '[集8]米氮平片J(甲类)[华裕]', '盐酸特比萘芬乳膏(乙类)', '盐酸利托君片(乙类)[华南]', '复方青黛胶囊(乙类)', '[Z1]复方鳖甲软肝片(乙类)', '恩替卡韦片J(乙类)', '[联5]碳酸钙D3片(I)(乙类)', '沙利度胺片(乙类)'} 38\n"
     ]
    }
   ],
   "execution_count": 10
  },
  {
   "metadata": {
    "ExecuteTime": {
     "end_time": "2024-11-08T09:24:36.996067Z",
     "start_time": "2024-11-08T09:24:36.988668Z"
    }
   },
   "cell_type": "code",
   "source": [
    "from collections import deque\n",
    "quelist = deque(maxlen=4)\n",
    "quelist.append(1)\n",
    "quelist.append(2)\n",
    "quelist.append(3)\n",
    "print(quelist)\n",
    "quelist.appendleft(4)\n",
    "print(quelist)\n",
    "quelist.append(5)\n",
    "print(quelist)\n",
    "quelist.append(6)\n",
    "print(quelist)\n",
    "for i in quelist:\n",
    "    print(i)"
   ],
   "id": "2db8f58545d1d28c",
   "outputs": [
    {
     "name": "stdout",
     "output_type": "stream",
     "text": [
      "deque([1, 2, 3], maxlen=4)\n",
      "deque([4, 1, 2, 3], maxlen=4)\n",
      "deque([1, 2, 3, 5], maxlen=4)\n",
      "deque([2, 3, 5, 6], maxlen=4)\n",
      "2\n",
      "3\n",
      "5\n",
      "6\n"
     ]
    }
   ],
   "execution_count": 19
  },
  {
   "metadata": {},
   "cell_type": "code",
   "outputs": [],
   "execution_count": null,
   "source": "",
   "id": "10bfa7a914895999"
  }
 ],
 "metadata": {
  "kernelspec": {
   "display_name": "Python 3",
   "language": "python",
   "name": "python3"
  },
  "language_info": {
   "codemirror_mode": {
    "name": "ipython",
    "version": 2
   },
   "file_extension": ".py",
   "mimetype": "text/x-python",
   "name": "python",
   "nbconvert_exporter": "python",
   "pygments_lexer": "ipython2",
   "version": "2.7.6"
  }
 },
 "nbformat": 4,
 "nbformat_minor": 5
}

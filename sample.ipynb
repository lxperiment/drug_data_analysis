{
 "cells": [
  {
   "metadata": {},
   "cell_type": "markdown",
   "source": [
    "# This is a sample Jupyter Notebook\n",
    "\n",
    "Below is an example of a code cell. \n",
    "Put your cursor into the cell and press Shift+Enter to execute it and select the next one, or click !here goes the icon of the corresponding button in the gutter! button.\n",
    "To debug a cell, press Alt+Shift+Enter, or click !here goes the icon of the corresponding button in the gutter! button.\n",
    "\n",
    "Press Double Shift to search everywhere for classes, files, tool windows, actions, and settings.\n",
    "\n",
    "To learn more about Jupyter Notebooks in PyCharm, see [help](https://www.jetbrains.com/help/pycharm/jupyter-notebook-support.html).\n",
    "For an overview of PyCharm, go to Help -> Learn IDE features or refer to [our documentation](https://www.jetbrains.com/help/pycharm/getting-started.html)."
   ],
   "id": "8a77807f92f26ee"
  },
  {
   "metadata": {
    "ExecuteTime": {
     "end_time": "2024-10-29T08:16:26.245845Z",
     "start_time": "2024-10-29T08:16:24.516237Z"
    }
   },
   "cell_type": "code",
   "source": [
    "import pandas as pd\n",
    "df = pd.read_csv('./data/grouped.csv')\n",
    "df.info()"
   ],
   "id": "fbc121e30a2defb3",
   "outputs": [
    {
     "name": "stdout",
     "output_type": "stream",
     "text": [
      "<class 'pandas.core.frame.DataFrame'>\n",
      "RangeIndex: 667844 entries, 0 to 667843\n",
      "Data columns (total 3 columns):\n",
      " #   Column      Non-Null Count   Dtype \n",
      "---  ------      --------------   ----- \n",
      " 0   RQ          667844 non-null  object\n",
      " 1   PATIENT_ID  667844 non-null  object\n",
      " 2   DRUG_NAME   667844 non-null  object\n",
      "dtypes: object(3)\n",
      "memory usage: 15.3+ MB\n"
     ]
    }
   ],
   "execution_count": 1
  },
  {
   "metadata": {
    "ExecuteTime": {
     "end_time": "2024-10-29T08:20:33.180938Z",
     "start_time": "2024-10-29T08:20:33.170101Z"
    }
   },
   "cell_type": "code",
   "source": [
    "df = pd.read_csv('./data/count_nunique.csv')\n",
    "df[\"count\"].sum()"
   ],
   "id": "dd2e6c0e738c912a",
   "outputs": [
    {
     "data": {
      "text/plain": [
       "1974205"
      ]
     },
     "execution_count": 6,
     "metadata": {},
     "output_type": "execute_result"
    }
   ],
   "execution_count": 6
  },
  {
   "metadata": {
    "ExecuteTime": {
     "end_time": "2024-10-29T09:27:06.542495Z",
     "start_time": "2024-10-29T09:27:06.532637Z"
    }
   },
   "cell_type": "code",
   "source": "df",
   "id": "48acc31dafeb9284",
   "outputs": [
    {
     "data": {
      "text/plain": [
       "                   DRUG_NAME  count\n",
       "0       [集1]阿托伐他汀钙片J(乙类)[乐普]  29313\n",
       "1     [集7]琥珀酸美托洛尔缓释片(乙类)[华益]  29165\n",
       "2           沙库巴曲缬沙坦钠片(乙限)[保]  24686\n",
       "3        阿司匹林肠溶片J(甲类)[100mg]  24536\n",
       "4       [常用]普伐他汀钠片(乙类)[上海现代]  24142\n",
       "...                      ...    ...\n",
       "1264  [Z2]胞磷胆碱钠注射液(乙类)[0.1g]      1\n",
       "1265          盐酸戊乙奎醚注射液J(乙类)      1\n",
       "1266   吸入用复方异丙托溴铵溶液(乙类)[勃林格]      1\n",
       "1267         盐酸氮卓斯汀鼻喷雾剂★(乙类)      1\n",
       "1268        碘解磷定注射液J(甲类)[援生]      1\n",
       "\n",
       "[1269 rows x 2 columns]"
      ],
      "text/html": [
       "<div>\n",
       "<style scoped>\n",
       "    .dataframe tbody tr th:only-of-type {\n",
       "        vertical-align: middle;\n",
       "    }\n",
       "\n",
       "    .dataframe tbody tr th {\n",
       "        vertical-align: top;\n",
       "    }\n",
       "\n",
       "    .dataframe thead th {\n",
       "        text-align: right;\n",
       "    }\n",
       "</style>\n",
       "<table border=\"1\" class=\"dataframe\">\n",
       "  <thead>\n",
       "    <tr style=\"text-align: right;\">\n",
       "      <th></th>\n",
       "      <th>DRUG_NAME</th>\n",
       "      <th>count</th>\n",
       "    </tr>\n",
       "  </thead>\n",
       "  <tbody>\n",
       "    <tr>\n",
       "      <th>0</th>\n",
       "      <td>[集1]阿托伐他汀钙片J(乙类)[乐普]</td>\n",
       "      <td>29313</td>\n",
       "    </tr>\n",
       "    <tr>\n",
       "      <th>1</th>\n",
       "      <td>[集7]琥珀酸美托洛尔缓释片(乙类)[华益]</td>\n",
       "      <td>29165</td>\n",
       "    </tr>\n",
       "    <tr>\n",
       "      <th>2</th>\n",
       "      <td>沙库巴曲缬沙坦钠片(乙限)[保]</td>\n",
       "      <td>24686</td>\n",
       "    </tr>\n",
       "    <tr>\n",
       "      <th>3</th>\n",
       "      <td>阿司匹林肠溶片J(甲类)[100mg]</td>\n",
       "      <td>24536</td>\n",
       "    </tr>\n",
       "    <tr>\n",
       "      <th>4</th>\n",
       "      <td>[常用]普伐他汀钠片(乙类)[上海现代]</td>\n",
       "      <td>24142</td>\n",
       "    </tr>\n",
       "    <tr>\n",
       "      <th>...</th>\n",
       "      <td>...</td>\n",
       "      <td>...</td>\n",
       "    </tr>\n",
       "    <tr>\n",
       "      <th>1264</th>\n",
       "      <td>[Z2]胞磷胆碱钠注射液(乙类)[0.1g]</td>\n",
       "      <td>1</td>\n",
       "    </tr>\n",
       "    <tr>\n",
       "      <th>1265</th>\n",
       "      <td>盐酸戊乙奎醚注射液J(乙类)</td>\n",
       "      <td>1</td>\n",
       "    </tr>\n",
       "    <tr>\n",
       "      <th>1266</th>\n",
       "      <td>吸入用复方异丙托溴铵溶液(乙类)[勃林格]</td>\n",
       "      <td>1</td>\n",
       "    </tr>\n",
       "    <tr>\n",
       "      <th>1267</th>\n",
       "      <td>盐酸氮卓斯汀鼻喷雾剂★(乙类)</td>\n",
       "      <td>1</td>\n",
       "    </tr>\n",
       "    <tr>\n",
       "      <th>1268</th>\n",
       "      <td>碘解磷定注射液J(甲类)[援生]</td>\n",
       "      <td>1</td>\n",
       "    </tr>\n",
       "  </tbody>\n",
       "</table>\n",
       "<p>1269 rows × 2 columns</p>\n",
       "</div>"
      ]
     },
     "execution_count": 7,
     "metadata": {},
     "output_type": "execute_result"
    }
   ],
   "execution_count": 7
  },
  {
   "metadata": {},
   "cell_type": "code",
   "outputs": [],
   "execution_count": null,
   "source": [
    "n = 0\n",
    "sum = 0\n",
    "\n",
    "for drug, i in df[\"count\"]:\n",
    "    sum += i\n",
    "    n += sum / df[\"count\"].sum()\n",
    "    \n",
    "        "
   ],
   "id": "22dc6c6a01eaefd7"
  }
 ],
 "metadata": {
  "kernelspec": {
   "display_name": "Python 3",
   "language": "python",
   "name": "python3"
  },
  "language_info": {
   "codemirror_mode": {
    "name": "ipython",
    "version": 2
   },
   "file_extension": ".py",
   "mimetype": "text/x-python",
   "name": "python",
   "nbconvert_exporter": "python",
   "pygments_lexer": "ipython2",
   "version": "2.7.6"
  }
 },
 "nbformat": 4,
 "nbformat_minor": 5
}
